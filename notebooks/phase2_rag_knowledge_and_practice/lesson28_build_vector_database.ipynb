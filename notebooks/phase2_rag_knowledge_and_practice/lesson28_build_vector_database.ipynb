{
 "cells": [
  {
   "cell_type": "markdown",
   "id": "a0ceb08c",
   "metadata": {},
   "source": [
    "# Lesson 28: Build the Vector Database with Milvus for Data\n",
    "\n",
    "## Introduction (2 minutes)\n",
    "\n",
    "Welcome to our lesson on building a vector database using Milvus. In this 30-minute session, we'll explore how to set up Milvus, create collections, insert data, and build indexes for efficient similarity search in our RAG system.\n",
    "\n",
    "## Lesson Objectives\n",
    "\n",
    "By the end of this lesson, you will be able to:\n",
    "1. Set up and connect to a Milvus instance\n",
    "2. Create a collection in Milvus for storing document embeddings\n",
    "3. Insert vector data into Milvus\n",
    "4. Build an index for efficient similarity search\n",
    "\n",
    "## 1. Setting up Milvus (5 minutes)\n",
    "\n",
    "First, let's set up Milvus using Docker and connect to it using the Python SDK:\n",
    "\n",
    "```bash\n",
    "# Pull and run Milvus using Docker\n",
    "docker pull milvusdb/milvus:latest\n",
    "docker run -d --name milvus_standalone -p 19530:19530 -p 9091:9091 milvusdb/milvus:latest"
   ]
  },
  {
   "cell_type": "code",
   "execution_count": null,
   "id": "837dd72b",
   "metadata": {},
   "outputs": [],
   "source": [
    "Now, let's install the Milvus Python SDK and connect to our Milvus instance:"
   ]
  },
  {
   "cell_type": "markdown",
   "id": "5733c763",
   "metadata": {},
   "source": [
    "pip install pymilvus\n",
    "\n",
    "from pymilvus import connections, utility\n",
    "\n",
    "def connect_to_milvus():\n",
    "    connections.connect(\"default\", host=\"localhost\", port=\"19530\")\n",
    "    print(\"Connected to Milvus\")\n",
    "\n",
    "connect_to_milvus()"
   ]
  },
  {
   "cell_type": "code",
   "execution_count": null,
   "id": "ad63eb82",
   "metadata": {},
   "outputs": [],
   "source": [
    "## 2. Creating a Collection (8 minutes)\n",
    "\n",
    "Let's create a collection to store our document embeddings:"
   ]
  },
  {
   "cell_type": "markdown",
   "id": "eed1b01f",
   "metadata": {},
   "source": [
    "from pymilvus import Collection, FieldSchema, CollectionSchema, DataType\n",
    "\n",
    "def create_collection(collection_name, dim):\n",
    "    fields = [\n",
    "        FieldSchema(name=\"id\", dtype=DataType.INT64, is_primary=True, auto_id=True),\n",
    "        FieldSchema(name=\"embedding\", dtype=DataType.FLOAT_VECTOR, dim=dim),\n",
    "        FieldSchema(name=\"text\", dtype=DataType.VARCHAR, max_length=65535)\n",
    "    ]\n",
    "    schema = CollectionSchema(fields, \"Document embeddings for RAG\")\n",
    "    collection = Collection(collection_name, schema)\n",
    "    print(f\"Collection '{collection_name}' created\")\n",
    "    return collection\n",
    "\n",
    "# Usage\n",
    "collection_name = \"rag_documents\"\n",
    "dim = 384  # Dimension of your embeddings, adjust as needed\n",
    "collection = create_collection(collection_name, dim)"
   ]
  },
  {
   "cell_type": "code",
   "execution_count": null,
   "id": "aab183c2",
   "metadata": {},
   "outputs": [],
   "source": [
    "## 3. Inserting Data (10 minutes)\n",
    "\n",
    "Now, let's insert some document embeddings into our collection:"
   ]
  },
  {
   "cell_type": "markdown",
   "id": "27b7d7d4",
   "metadata": {},
   "source": [
    "import numpy as np\n",
    "from sentence_transformers import SentenceTransformer\n",
    "\n",
    "def generate_embeddings(texts, model_name='all-MiniLM-L6-v2'):\n",
    "    model = SentenceTransformer(model_name)\n",
    "    embeddings = model.encode(texts)\n",
    "    return embeddings\n",
    "\n",
    "def insert_data(collection, texts, embeddings):\n",
    "    entities = [\n",
    "        {\"embedding\": embedding.tolist(), \"text\": text}\n",
    "        for embedding, text in zip(embeddings, texts)\n",
    "    ]\n",
    "    insert_result = collection.insert(entities)\n",
    "    print(f\"Inserted {insert_result.insert_count} entities\")\n",
    "\n",
    "# Usage\n",
    "texts = [\n",
    "    \"Milvus is a vector database for similarity search.\",\n",
    "    \"RAG systems combine retrieval and generation.\",\n",
    "    \"Vector databases are crucial for efficient embedding storage.\",\n",
    "]\n",
    "embeddings = generate_embeddings(texts)\n",
    "insert_data(collection, texts, embeddings)"
   ]
  },
  {
   "cell_type": "code",
   "execution_count": null,
   "id": "427b57eb",
   "metadata": {},
   "outputs": [],
   "source": [
    "## 4. Building an Index (5 minutes)\n",
    "\n",
    "To enable efficient similarity search, let's build an index on our collection:"
   ]
  },
  {
   "cell_type": "markdown",
   "id": "f7ca117a",
   "metadata": {},
   "source": [
    "def create_index(collection):\n",
    "    index_params = {\n",
    "        \"metric_type\": \"L2\",\n",
    "        \"index_type\": \"IVF_FLAT\",\n",
    "        \"params\": {\"nlist\": 1024}\n",
    "    }\n",
    "    collection.create_index(\"embedding\", index_params)\n",
    "    print(\"Index created\")\n",
    "\n",
    "# Usage\n",
    "create_index(collection)"
   ]
  },
  {
   "cell_type": "code",
   "execution_count": null,
   "id": "46ea3414",
   "metadata": {},
   "outputs": [],
   "source": [
    "## Demonstration: Performing a Search (5 minutes)\n",
    "\n",
    "Let's perform a simple search to demonstrate the functionality of our vector database:"
   ]
  },
  {
   "cell_type": "markdown",
   "id": "dd753f10",
   "metadata": {},
   "source": [
    "def search_similar_documents(collection, query_text, top_k=3):\n",
    "    query_embedding = generate_embeddings([query_text])[0]\n",
    "    search_params = {\"metric_type\": \"L2\", \"params\": {\"nprobe\": 10}}\n",
    "    results = collection.search(\n",
    "        data=[query_embedding.tolist()],\n",
    "        anns_field=\"embedding\",\n",
    "        param=search_params,\n",
    "        limit=top_k,\n",
    "        output_fields=[\"text\"]\n",
    "    )\n",
    "    return results\n",
    "\n",
    "# Usage\n",
    "query = \"How does RAG use vector databases?\"\n",
    "results = search_similar_documents(collection, query)\n",
    "\n",
    "print(f\"Query: {query}\")\n",
    "print(\"Results:\")\n",
    "for i, hit in enumerate(results[0]):\n",
    "    print(f\"{i+1}. {hit.entity.get('text')} (Distance: {hit.distance})\")"
   ]
  },
  {
   "cell_type": "code",
   "execution_count": null,
   "id": "dc4b8f44",
   "metadata": {},
   "outputs": [],
   "source": [
    "## Conclusion and Next Steps (2 minutes)\n",
    "\n",
    "In this lesson, we've set up Milvus, created a collection for our document embeddings, inserted data, and built an index for efficient similarity search. This vector database will serve as a crucial component in our RAG system, enabling fast and accurate retrieval of relevant documents.\n",
    "\n",
    "In our next lesson, we'll focus on integrating this vector database with our RAG pipeline and implementing the retrieval mechanism.\n",
    "\n",
    "Are there any questions about building the vector database with Milvus?\n",
    "\n",
    "## Additional Resources\n",
    "\n",
    "1. Milvus documentation: https://milvus.io/docs\n",
    "2. PyMilvus API Reference: https://milvus.io/api-reference/pymilvus/v2.2.6/About.md\n",
    "3. \"Vector Similarity Search: From Basics to Production\" article: https://milvus.io/blog/vector-similarity-search-from-basics-to-production.md\n",
    "\n",
    "For the next lesson, please ensure your Milvus instance is running and you have the PyMilvus library installed."
   ]
  }
 ],
 "metadata": {},
 "nbformat": 4,
 "nbformat_minor": 5
}
