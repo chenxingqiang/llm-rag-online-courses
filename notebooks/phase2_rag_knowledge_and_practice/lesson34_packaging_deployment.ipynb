{
 "cells": [
  {
   "cell_type": "markdown",
   "id": "efb73ddd",
   "metadata": {},
   "source": [
    "# Lesson 34: Package the Project and Deploy in the Cloud\n",
    "\n",
    "## Introduction (5 minutes)\n",
    "\n",
    "Welcome to our final lesson on packaging and deploying our RAG system. In this 60-minute session, we'll explore how to containerize our application using Docker, create a Conda environment, and deploy our system to a cloud platform.\n",
    "\n",
    "## Lesson Objectives\n",
    "\n",
    "By the end of this lesson, you will be able to:\n",
    "1. Understand the basics of Docker and containerization\n",
    "2. Create a Docker image for our RAG system\n",
    "3. Set up a Conda environment for our project\n",
    "4. Deploy the containerized application to a cloud platform\n",
    "\n",
    "## 1. Docker Basics (10 minutes)\n",
    "\n",
    "Docker is a platform for developing, shipping, and running applications in containers. Containers are lightweight, portable, and consistent environments that package an application with all its dependencies.\n",
    "\n",
    "Key concepts:\n",
    "- Dockerfile: A script containing instructions to build a Docker image\n",
    "- Image: A lightweight, standalone, executable package that includes everything needed to run an application\n",
    "- Container: A runtime instance of an image\n",
    "\n",
    "Let's start by creating a Dockerfile for our RAG system:\n",
    "\n",
    "```dockerfile\n",
    "# Use an official Python runtime as the base image\n",
    "FROM python:3.8-slim\n",
    "\n",
    "# Set the working directory in the container\n",
    "WORKDIR /app\n",
    "\n",
    "# Copy the current directory contents into the container at /app\n",
    "COPY . /app\n",
    "\n",
    "# Install any needed packages specified in requirements.txt\n",
    "RUN pip install --no-cache-dir -r requirements.txt\n",
    "\n",
    "# Make port 5000 available to the world outside this container\n",
    "EXPOSE 5000\n",
    "\n",
    "# Define environment variable\n",
    "ENV NAME RAGSystem\n",
    "\n",
    "# Run app.py when the container launches\n",
    "CMD [\"python\", \"app.py\"]"
   ]
  },
  {
   "cell_type": "code",
   "execution_count": null,
   "id": "92349532",
   "metadata": {},
   "outputs": [],
   "source": [
    "## 2. Creating a Docker Image (15 minutes)\n",
    "\n",
    "Now that we have our Dockerfile, let's build the Docker image:\n",
    "\n",
    "```bash\n",
    "# Navigate to your project directory\n",
    "cd /path/to/your/rag_project\n",
    "\n",
    "# Build the Docker image\n",
    "docker build -t rag-system:latest ."
   ]
  },
  {
   "cell_type": "markdown",
   "id": "c7402554",
   "metadata": {},
   "source": [
    "This command builds a Docker image named `rag-system` with the tag `latest`.\n",
    "\n",
    "To run the container locally:\n",
    "\n",
    "```bash\n",
    "docker run -p 5000:5000 rag-system:latest"
   ]
  },
  {
   "cell_type": "code",
   "execution_count": null,
   "id": "5e2f2b43",
   "metadata": {},
   "outputs": [],
   "source": [
    "This command runs the container and maps port 5000 in the container to port 5000 on your host machine.\n",
    "\n",
    "## 3. Setting up a Conda Environment (10 minutes)\n",
    "\n",
    "While Docker provides a complete containerized environment, Conda is useful for managing Python environments and dependencies. Let's create a Conda environment for our project:\n",
    "\n",
    "1. Install Miniconda if you haven't already: https://docs.conda.io/en/latest/miniconda.html\n",
    "\n",
    "2. Create a new Conda environment:\n",
    "\n",
    "```bash\n",
    "conda create --name rag_env python=3.8"
   ]
  },
  {
   "cell_type": "markdown",
   "id": "f285e598",
   "metadata": {},
   "source": [
    "3. Activate the environment:\n",
    "\n",
    "```bash\n",
    "conda activate rag_env"
   ]
  },
  {
   "cell_type": "code",
   "execution_count": null,
   "id": "007537a7",
   "metadata": {},
   "outputs": [],
   "source": [
    "4. Install the required packages:\n",
    "\n",
    "```bash\n",
    "pip install -r requirements.txt"
   ]
  },
  {
   "cell_type": "markdown",
   "id": "53aa397a",
   "metadata": {},
   "source": [
    "5. To export the environment for others to use:\n",
    "\n",
    "```bash\n",
    "conda env export > environment.yml"
   ]
  },
  {
   "cell_type": "code",
   "execution_count": null,
   "id": "1fcc8dc6",
   "metadata": {},
   "outputs": [],
   "source": [
    "Others can then recreate the environment using:\n",
    "\n",
    "```bash\n",
    "conda env create -f environment.yml"
   ]
  },
  {
   "cell_type": "markdown",
   "id": "28afe759",
   "metadata": {},
   "source": [
    "## 4. Deploying to the Cloud (20 minutes)\n",
    "\n",
    "For this example, we'll deploy our Docker container to Google Cloud Run, a serverless platform for containerized applications.\n",
    "\n",
    "1. Set up Google Cloud SDK: https://cloud.google.com/sdk/docs/install\n",
    "\n",
    "2. Authenticate with Google Cloud:\n",
    "\n",
    "```bash\n",
    "gcloud auth login"
   ]
  },
  {
   "cell_type": "code",
   "execution_count": null,
   "id": "fb593eab",
   "metadata": {},
   "outputs": [],
   "source": [
    "3. Set your project ID:\n",
    "\n",
    "```bash\n",
    "gcloud config set project YOUR_PROJECT_ID"
   ]
  },
  {
   "cell_type": "markdown",
   "id": "0830f82c",
   "metadata": {},
   "source": [
    "4. Build and push your Docker image to Google Container Registry:\n",
    "\n",
    "```bash\n",
    "gcloud builds submit --tag gcr.io/YOUR_PROJECT_ID/rag-system"
   ]
  },
  {
   "cell_type": "code",
   "execution_count": null,
   "id": "2e15be9d",
   "metadata": {},
   "outputs": [],
   "source": [
    "5. Deploy to Cloud Run:\n",
    "\n",
    "```bash\n",
    "gcloud run deploy rag-system \\\n",
    "  --image gcr.io/YOUR_PROJECT_ID/rag-system \\\n",
    "  --platform managed \\\n",
    "  --region us-central1 \\\n",
    "  --allow-unauthenticated"
   ]
  },
  {
   "cell_type": "markdown",
   "id": "100ede35",
   "metadata": {},
   "source": [
    "This command deploys your container to Cloud Run, making it publicly accessible.\n",
    "\n",
    "## 5. Testing the Deployed Application (5 minutes)\n",
    "\n",
    "Once deployed, Google Cloud Run will provide you with a URL for your application. Let's test it:"
   ]
  },
  {
   "cell_type": "code",
   "execution_count": null,
   "id": "57b94587",
   "metadata": {},
   "outputs": [],
   "source": [
    "import requests\n",
    "\n",
    "url = \"https://your-cloud-run-url.a.run.app/query\"\n",
    "data = {\"query\": \"What is retrieval-augmented generation?\"}\n",
    "\n",
    "response = requests.post(url, json=data)\n",
    "print(response.json())"
   ]
  },
  {
   "cell_type": "markdown",
   "id": "459f148d",
   "metadata": {},
   "source": [
    "This should return a response from your deployed RAG system.\n",
    "\n",
    "## Conclusion and Next Steps (5 minutes)\n",
    "\n",
    "In this lesson, we've packaged our RAG system as a Docker container, set up a Conda environment for local development, and deployed our application to Google Cloud Run. This process makes our system portable, scalable, and easily deployable.\n",
    "\n",
    "Some next steps to consider:\n",
    "1. Set up continuous integration and deployment (CI/CD) for automatic updates\n",
    "2. Implement monitoring and logging for your deployed application\n",
    "3. Optimize your container for production use (e.g., using multi-stage builds)\n",
    "4. Explore other cloud platforms and serverless options\n",
    "\n",
    "## Additional Resources\n",
    "\n",
    "1. Docker documentation: https://docs.docker.com/\n",
    "2. Conda documentation: https://docs.conda.io/\n",
    "3. Google Cloud Run documentation: https://cloud.google.com/run/docs\n",
    "4. \"Docker for Data Science\" book by Joshua Cook\n",
    "\n",
    "Congratulations on completing the course! You now have a fully functional, deployed RAG system. Keep exploring and building upon what you've learned!"
   ]
  }
 ],
 "metadata": {},
 "nbformat": 4,
 "nbformat_minor": 5
}
